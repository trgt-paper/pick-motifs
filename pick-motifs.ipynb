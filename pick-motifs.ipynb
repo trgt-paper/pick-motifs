{
 "cells": [
  {
   "cell_type": "markdown",
   "id": "6b2382ff-d945-44c4-9b78-24a675ea54f3",
   "metadata": {},
   "source": [
    "# A collection of methods for motif selection"
   ]
  },
  {
   "cell_type": "code",
   "execution_count": 1,
   "id": "9099f7cb-0e92-45fa-ada8-f64a344bca54",
   "metadata": {},
   "outputs": [],
   "source": [
    "import os\n",
    "import json\n",
    "import numpy as np\n",
    "import itertools\n",
    "from pandas import DataFrame\n",
    "import matplotlib.pyplot as plt\n",
    "import matplotlib.patches as patches\n",
    "import seaborn as sns\n",
    "%matplotlib inline\n",
    "plt.rcParams['figure.figsize'] = [16.5, 5]\n",
    "plt.rcParams['font.size'] = 12"
   ]
  },
  {
   "cell_type": "code",
   "execution_count": 2,
   "id": "0c4a6feb-f18d-453c-9475-8438c6b436a4",
   "metadata": {},
   "outputs": [],
   "source": [
    "# pip install intervaltree\n",
    "import intervaltree"
   ]
  },
  {
   "cell_type": "code",
   "execution_count": null,
   "id": "86d5ae5a-d71b-4800-9de8-d1fd31e6fc18",
   "metadata": {},
   "outputs": [],
   "source": []
  },
  {
   "cell_type": "code",
   "execution_count": 37,
   "id": "2823a9af-1f5b-49df-89d1-a377cd0333c7",
   "metadata": {},
   "outputs": [
    {
     "data": {
      "text/plain": [
       "['CAG', 'CAT']"
      ]
     },
     "execution_count": 37,
     "metadata": {},
     "output_type": "execute_result"
    }
   ],
   "source": [
    "def make_period_matrix(bases, max_period):\n",
    "    \"\"\"\n",
    "    Makes a matrix containing information about matches between bases at different offsets\n",
    "    period_matrix[i][j] == 1 if the base at index j is equal to the base at index j + i + 1\n",
    "    \"\"\"\n",
    "    matrix = np.zeros((max_period, len(bases)), dtype=int)\n",
    "\n",
    "    for row_index in range(max_period):\n",
    "        for col_index in range(len(bases) - row_index - 1):\n",
    "            if bases[col_index] == bases[col_index + row_index + 1]:\n",
    "                matrix[row_index][col_index] = 1\n",
    "\n",
    "    return matrix\n",
    "\n",
    "\n",
    "def is_nested(tree, begin, stop):\n",
    "    for interval in tree.overlap(begin, stop):\n",
    "        if interval.begin <= begin and stop <= interval.end:\n",
    "            return True\n",
    "    return False\n",
    "\n",
    "\n",
    "def find_motifs(bases):\n",
    "    matrix = make_period_matrix(bases, int(len(bases) / 2))\n",
    "    tree = intervaltree.IntervalTree()\n",
    "\n",
    "    for row_index, row in enumerate(matrix):\n",
    "        period = row_index + 1\n",
    "        base_offset = 0\n",
    "        for symbol, group in itertools.groupby(row):\n",
    "            run_length = len(list(group))\n",
    "            if symbol == 1 and run_length >= period and run_length + period >= 8:\n",
    "                begin = base_offset\n",
    "                end = begin + run_length\n",
    "\n",
    "                if not is_nested(tree, begin, end):\n",
    "                    motif = bases[base_offset:base_offset + period]\n",
    "                    tree.addi(begin, end, motif)\n",
    "\n",
    "            base_offset += run_length\n",
    "    return [interval.data for interval in tree]\n",
    "\n",
    "\n",
    "find_motifs(\"CAGCAGCAGCAGCAGCATCATCATCATCATCAT\")"
   ]
  },
  {
   "cell_type": "code",
   "execution_count": null,
   "id": "9c4cd9e3-fe88-4e48-bac4-8f008b067581",
   "metadata": {},
   "outputs": [],
   "source": []
  },
  {
   "cell_type": "code",
   "execution_count": null,
   "id": "752cdafd-cd64-4c2c-a1a9-65fcab43845b",
   "metadata": {},
   "outputs": [],
   "source": []
  },
  {
   "cell_type": "code",
   "execution_count": null,
   "id": "a185b7f3-3194-42fe-b30f-3573d5dedfd1",
   "metadata": {},
   "outputs": [],
   "source": []
  },
  {
   "cell_type": "code",
   "execution_count": null,
   "id": "156956d7-6be4-4ef8-bb02-83a763c8b718",
   "metadata": {},
   "outputs": [],
   "source": []
  }
 ],
 "metadata": {
  "kernelspec": {
   "display_name": "Python 3 (ipykernel)",
   "language": "python",
   "name": "python3"
  },
  "language_info": {
   "codemirror_mode": {
    "name": "ipython",
    "version": 3
   },
   "file_extension": ".py",
   "mimetype": "text/x-python",
   "name": "python",
   "nbconvert_exporter": "python",
   "pygments_lexer": "ipython3",
   "version": "3.10.12"
  }
 },
 "nbformat": 4,
 "nbformat_minor": 5
}
